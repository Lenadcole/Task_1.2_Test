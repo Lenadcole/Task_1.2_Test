{
 "cells": [
  {
   "cell_type": "markdown",
   "id": "0a785ec9-e33e-4ccd-a40e-f08206c5e9ef",
   "metadata": {},
   "source": [
    "# Dummy file"
   ]
  },
  {
   "cell_type": "markdown",
   "id": "615c91a2-d4e5-49dd-907a-d28af891f216",
   "metadata": {},
   "source": [
    "## This is a dummy file"
   ]
  },
  {
   "cell_type": "code",
   "execution_count": 3,
   "id": "90864149-84cb-4a11-be4f-96902d86810a",
   "metadata": {
    "tags": []
   },
   "outputs": [],
   "source": [
    "a = 1"
   ]
  },
  {
   "cell_type": "code",
   "execution_count": 5,
   "id": "9becfd25-983a-476f-96dc-7904310115fc",
   "metadata": {
    "tags": []
   },
   "outputs": [
    {
     "data": {
      "text/plain": [
       "1"
      ]
     },
     "execution_count": 5,
     "metadata": {},
     "output_type": "execute_result"
    }
   ],
   "source": [
    "a*a"
   ]
  },
  {
   "cell_type": "code",
   "execution_count": null,
   "id": "27568da5-eba7-4f4f-8baa-3556226d837c",
   "metadata": {},
   "outputs": [],
   "source": []
  }
 ],
 "metadata": {
  "kernelspec": {
   "display_name": "Python 3 (ipykernel)",
   "language": "python",
   "name": "python3"
  },
  "language_info": {
   "codemirror_mode": {
    "name": "ipython",
    "version": 3
   },
   "file_extension": ".py",
   "mimetype": "text/x-python",
   "name": "python",
   "nbconvert_exporter": "python",
   "pygments_lexer": "ipython3",
   "version": "3.11.7"
  }
 },
 "nbformat": 4,
 "nbformat_minor": 5
}
